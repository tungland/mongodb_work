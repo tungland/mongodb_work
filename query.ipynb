{
 "cells": [
  {
   "cell_type": "code",
   "execution_count": 12,
   "metadata": {},
   "outputs": [],
   "source": [
    "import pymongo as pm\n",
    "import pandas as pd\n",
    "import json\n",
    "\n",
    "from pymongo import MongoClient\n",
    "from pprint import pprint"
   ]
  },
  {
   "cell_type": "code",
   "execution_count": 3,
   "metadata": {},
   "outputs": [],
   "source": [
    "client = MongoClient()"
   ]
  },
  {
   "cell_type": "code",
   "execution_count": 4,
   "metadata": {},
   "outputs": [],
   "source": [
    "db = client.OAImods"
   ]
  },
  {
   "cell_type": "code",
   "execution_count": 5,
   "metadata": {},
   "outputs": [
    {
     "data": {
      "text/plain": [
       "{'_id': ObjectId('62d54678fa26539425e8d3f0'),\n",
       " 'header': {'identifier': 'oai:nb.no:002b32beb0facb5303e8a89c03b72957',\n",
       "  'datestamp': '2013-09-17T10:45:38Z'},\n",
       " 'metadata': {'mods': {'@xmlns': 'http://www.loc.gov/mods/v3',\n",
       "   '@xmlns:xsi': 'http://www.w3.org/2001/XMLSchema-instance',\n",
       "   '@xsi:schemaLocation': 'http://www.loc.gov/mods/v3        http://www.loc.gov/standards/mods/v3/mods-3-0.xsd',\n",
       "   'recordInfo': {'@authority': 'Nasjonalbiblioteket',\n",
       "    'recordIdentifier': {'@source': 'nornoter.nb.no',\n",
       "     '#text': 'nornoter/1880029nms'},\n",
       "    'recordContentSource': 'Norsk musikkfortegnelse : notetrykk'},\n",
       "   'extension': [{'nbIndexIdentifier': 'oai:nornoter.nb.no:nornoter/1880029nms'},\n",
       "    {'nbTypeOfResource': 'Noter'},\n",
       "    {'sourceData': {'dateIssued': {'@marc': '260', '#text': 'cop. 1908'}}}],\n",
       "   'titleInfo': [{'@marc': '240',\n",
       "     '@type': 'uniform',\n",
       "     'title': 'Taaren. Engelsk & tysk'},\n",
       "    {'@marc': '245', 'title': 'Tränen', 'partName': 'Tears'},\n",
       "    {'@marc': '740', '@type': 'alternative', 'title': 'Taaren'}],\n",
       "   'note': [{'@marc': '245',\n",
       "     '@type': 'statementOfResponsibility',\n",
       "     '#text': 'Edvard Grieg ; [tekst:] H.C. Andersen'},\n",
       "    {'@marc': '500',\n",
       "     '#text': 'EG 128. - Spisstittel. - Fra \"Efterladte sange\". - Tysk tekst: Hans Schmidt, engelsk tekst: John Bernhoff. - Platenummer: 9234 d. - Fotokopi'}],\n",
       "   'name': [{'@marc': '100',\n",
       "     '@type': 'personal',\n",
       "     'namePart': ['Grieg, Edvard', {'@type': 'date', '#text': '1843-1907'}]},\n",
       "    {'@marc': '700',\n",
       "     '@type': 'personal',\n",
       "     'namePart': 'Andersen, Hans Christian'}],\n",
       "   'typeOfResource': 'notated music',\n",
       "   'genre': 'sheet music',\n",
       "   'originInfo': {'place': {'@marc': '260',\n",
       "     'placeTerm': {'@type': 'text', '#text': 'Leipzig'}},\n",
       "    'publisher': {'@marc': '260', '#text': 'Peters'},\n",
       "    'dateIssued': {'@encoding': 'w3cdtf', '@keyDate': 'yes', '#text': '1908'}},\n",
       "   'language': {'@marc': '008-35', 'languageTerm': 'nor'},\n",
       "   'physicalDescription': {'@marc': '300',\n",
       "    'extent': '1 partitur (s. 3-5) ; 31 cm'},\n",
       "   'classification': {'@marc': '082', '#text': '783.2542'},\n",
       "   'identifier': [{'@type': 'sesamid',\n",
       "     '#text': '002b32beb0facb5303e8a89c03b72957'},\n",
       "    {'@type': 'oaiid', '#text': 'oai:nornoter.nb.no:nornoter/1880029nms'}]}}}"
      ]
     },
     "execution_count": 5,
     "metadata": {},
     "output_type": "execute_result"
    }
   ],
   "source": [
    "db.records.find_one()"
   ]
  },
  {
   "cell_type": "code",
   "execution_count": 16,
   "metadata": {},
   "outputs": [
    {
     "name": "stdout",
     "output_type": "stream",
     "text": [
      "{'_id': ObjectId('62d5f224fa2653942516be56'),\n",
      " 'header': {'datestamp': '2022-02-17T10:08:52Z'},\n",
      " 'metadata': {'mods': {'identifier': [{'#text': 'URN:NBN:no-nb_pliktmonografi_000000698',\n",
      "                                       '@type': 'urn'},\n",
      "                                      {'#text': '9788283722734',\n",
      "                                       '@type': 'isbn'},\n",
      "                                      {'#text': 'http://urn.nb.no/URN:NBN:no-nb_pliktmonografi_000000698',\n",
      "                                       '@type': 'uri'},\n",
      "                                      {'#text': '00229ad3e48d720d782a0618e2191fa5',\n",
      "                                       '@type': 'sesamid'},\n",
      "                                      {'#text': 'oai:nb.bibsys.no:999920138389402202',\n",
      "                                       '@type': 'oaiid'}],\n",
      "                       'originInfo': [{'dateIssued': {'#text': '2021',\n",
      "                                                      '@encoding': 'marc'},\n",
      "                                       'edition': '5. utgave',\n",
      "                                       'issuance': 'monographic',\n",
      "                                       'place': {'placeTerm': {'#text': 'no',\n",
      "                                                               '@authority': 'marccountry',\n",
      "                                                               '@type': 'code'}}},\n",
      "                                      {'@eventType': 'publication',\n",
      "                                       'dateIssued': '[2021]',\n",
      "                                       'place': {'placeTerm': {'#text': 'Bergen',\n",
      "                                                               '@type': 'text'}},\n",
      "                                       'publisher': 'Fagbokforlaget'}],\n",
      "                       'titleInfo': {'subTitle': '2021-2023 : yrkesfag',\n",
      "                                     'title': 'Fagopplæring i bedrift'}}}}\n"
     ]
    }
   ],
   "source": [
    "pprint(db.records.find_one({\"metadata.mods.identifier.#text\" : {\"$regex\" : \"URN:NBN:no-nb_pliktmonografi_.+\"}}, {\"metadata.mods.identifier\" : 1, \"header.datestamp\" : 1, \"metadata.mods.titleInfo\" : 1, \"metadata.mods.originInfo\" : 1}))"
   ]
  },
  {
   "cell_type": "code",
   "execution_count": 43,
   "metadata": {},
   "outputs": [],
   "source": [
    "res = db.records.find({\"metadata.mods.identifier.#text\" : {\"$regex\" : \"URN:NBN:no-nb_pliktmonografi_.+\"}}, {\"metadata.mods.identifier\" : 1, \"header.datestamp\" : 1, \"metadata.mods.titleInfo\" : 1, \"metadata.mods.originInfo.dateIssued\" : 1, \"_id\" : 0})"
   ]
  },
  {
   "cell_type": "code",
   "execution_count": 44,
   "metadata": {},
   "outputs": [],
   "source": [
    "lst = list(res)"
   ]
  },
  {
   "cell_type": "code",
   "execution_count": 45,
   "metadata": {},
   "outputs": [
    {
     "data": {
      "text/plain": [
       "3739"
      ]
     },
     "execution_count": 45,
     "metadata": {},
     "output_type": "execute_result"
    }
   ],
   "source": [
    "len(lst)"
   ]
  },
  {
   "cell_type": "code",
   "execution_count": 49,
   "metadata": {},
   "outputs": [
    {
     "name": "stdout",
     "output_type": "stream",
     "text": [
      "{\"header\": {\"datestamp\": \"2022-02-17T10:08:52Z\"}, \"metadata\": {\"mods\": {\"titleInfo\": {\"title\": \"Fagoppl\\u00e6ring i bedrift\", \"subTitle\": \"2021-2023 : yrkesfag\"}, \"originInfo\": [{\"dateIssued\": {\"@encoding\": \"marc\", \"#text\": \"2021\"}}, {\"dateIssued\": \"[2021]\"}], \"identifier\": [{\"@type\": \"urn\", \"#text\": \"URN:NBN:no-nb_pliktmonografi_000000698\"}, {\"@type\": \"isbn\", \"#text\": \"9788283722734\"}, {\"@type\": \"uri\", \"#text\": \"http://urn.nb.no/URN:NBN:no-nb_pliktmonografi_000000698\"}, {\"@type\": \"sesamid\", \"#text\": \"00229ad3e48d720d782a0618e2191fa5\"}, {\"@type\": \"oaiid\", \"#text\": \"oai:nb.bibsys.no:999920138389402202\"}]}}}\n"
     ]
    }
   ],
   "source": [
    "for x  in lst:\n",
    "    print(json.dumps(x))\n",
    "    #print(type(x))\n",
    "    break"
   ]
  },
  {
   "cell_type": "code",
   "execution_count": 50,
   "metadata": {},
   "outputs": [],
   "source": [
    "# write to jsonlines\n",
    "with open(\"pliktavlevering.jsonl\", \"w\") as f:\n",
    "    for x in lst:\n",
    "        f.write(json.dumps(x))\n",
    "        f.write('\\n')"
   ]
  },
  {
   "cell_type": "code",
   "execution_count": null,
   "metadata": {},
   "outputs": [],
   "source": []
  }
 ],
 "metadata": {
  "kernelspec": {
   "display_name": "Python 3.10.4 ('.venv': venv)",
   "language": "python",
   "name": "python3"
  },
  "language_info": {
   "codemirror_mode": {
    "name": "ipython",
    "version": 3
   },
   "file_extension": ".py",
   "mimetype": "text/x-python",
   "name": "python",
   "nbconvert_exporter": "python",
   "pygments_lexer": "ipython3",
   "version": "3.10.4"
  },
  "orig_nbformat": 4,
  "vscode": {
   "interpreter": {
    "hash": "5109bc20d47ef32e9538dd4b87c11a49816b034481e26a9a654ab3fd4c70f532"
   }
  }
 },
 "nbformat": 4,
 "nbformat_minor": 2
}
